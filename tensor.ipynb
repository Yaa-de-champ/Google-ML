import tensorflow as tf

# print(tf.version)
string = tf.Variable()