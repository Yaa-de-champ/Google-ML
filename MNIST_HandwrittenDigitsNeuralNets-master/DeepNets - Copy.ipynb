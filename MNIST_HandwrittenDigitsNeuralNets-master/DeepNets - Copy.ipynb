{
 "cells": [
  {
   "cell_type": "markdown",
   "id": "3750f8e5",
   "metadata": {},
   "source": [
    "# Deep Neural Network Model using MNIST Handwritten Digits Dataset"
   ]
  },
  {
   "cell_type": "markdown",
   "id": "01d34060",
   "metadata": {},
   "source": [
    "# MNIST Handwritten Digits Dataset\n",
    "<p style='font-size:20px; line-height:30px'>The Modified National Institude of Standards and Technology (MNIST) dataset for handwritten digits is a widely used dataset which contains 60,000 handwritten digits for training a machine learning model and 10,000 handwritten digits for testing the model. It was introduced in 1998 and has become a standard benchmark for many classification tasks.</p>"
   ]
  },
  {
   "cell_type": "markdown",
   "id": "36c992a7",
   "metadata": {},
   "source": [
    "# Objectives\n",
    "\n",
    "- To develop a machine learning model using a deep neural network architecture\n",
    "- Use the MNIST Handwritten dataset to train the model\n",
    "- Do a perfomance analysis on the Deep Neural Network model\n",
    "- Use the developed model to make predictions\n",
    "- Save model and deploy"
   ]
  },
  {
   "cell_type": "markdown",
   "id": "293455fa",
   "metadata": {},
   "source": [
    "# MNIST Fashion Dataset\n",
    "\n",
    "<h3 style=\"color:red\">Read more on the MNIST Fashion Dataset</h3>\n",
    "\n",
    "[Link to MNIST Fashion Dataset](https://www.tensorflow.org/datasets/catalog/fashion_mnist)\n"
   ]
  },
  {
   "cell_type": "code",
   "execution_count": 1,
   "id": "5a43ace2",
   "metadata": {},
   "outputs": [],
   "source": [
    "# Import Libraries --- [keras, sklearn, numpy, pandas, tensorflow, matplotlib]\n",
    "import keras\n",
    "import sklearn\n",
    "import numpy as np\n",
    "import pandas as pd\n",
    "import tensorflow as tf\n",
    "import matplotlib.pyplot as plt"
   ]
  },
  {
   "cell_type": "code",
   "execution_count": 2,
   "id": "6b8905e6",
   "metadata": {},
   "outputs": [],
   "source": [
    "# Load MNIST Fashion Dataset\n",
    "dataset = tf.keras.datasets.mnist"
   ]
  },
  {
   "cell_type": "code",
   "execution_count": 3,
   "id": "ddc0c0c3",
   "metadata": {},
   "outputs": [],
   "source": [
    "# Slipt data into train and test part\n",
    "(x_train, y_train), (x_test, y_test) =  dataset.load_data()"
   ]
  },
  {
   "cell_type": "code",
   "execution_count": 4,
   "id": "d3a7bafb-8331-4eff-b2b7-a2ede3c8374f",
   "metadata": {},
   "outputs": [
    {
     "data": {
      "text/plain": [
       "(60000, 28, 28)"
      ]
     },
     "execution_count": 4,
     "metadata": {},
     "output_type": "execute_result"
    }
   ],
   "source": [
    "x_train.shape"
   ]
  },
  {
   "cell_type": "code",
   "execution_count": 5,
   "id": "abbc2a0d-c710-48a7-9068-d306bd1e1647",
   "metadata": {},
   "outputs": [
    {
     "data": {
      "text/plain": [
       "(10000, 28, 28)"
      ]
     },
     "execution_count": 5,
     "metadata": {},
     "output_type": "execute_result"
    }
   ],
   "source": [
    "x_test.shape"
   ]
  },
  {
   "cell_type": "code",
   "execution_count": 6,
   "id": "3a95aea7-5823-470a-99f2-9cd0ea2d87a3",
   "metadata": {
    "scrolled": true
   },
   "outputs": [
    {
     "data": {
      "text/plain": [
       "array([[  0,   0,   0,   0,   0,   0,   0,   0,   0,   0,   0,   0,   0,\n",
       "          0,   0,   0,   0,   0,   0,   0,   0,   0,   0,   0,   0,   0,\n",
       "          0,   0],\n",
       "       [  0,   0,   0,   0,   0,   0,   0,   0,   0,   0,   0,   0,   0,\n",
       "          0,   0,   0,   0,   0,   0,   0,   0,   0,   0,   0,   0,   0,\n",
       "          0,   0],\n",
       "       [  0,   0,   0,   0,   0,   0,   0,   0,   0,   0,   0,   0,   0,\n",
       "          0,   0,   0,   0,   0,   0,   0,   0,   0,   0,   0,   0,   0,\n",
       "          0,   0],\n",
       "       [  0,   0,   0,   0,   0,   0,   0,   0,   0,   0,   0,   0,   0,\n",
       "          0,   0,   0,   0,   0,   0,   0,   0,   0,   0,   0,   0,   0,\n",
       "          0,   0],\n",
       "       [  0,   0,   0,   0,   0,   0,   0,   0,   0,   0,   0,   0,   0,\n",
       "          0,   0,   0,   0,   0,   0,   0,   0,   0,   0,   0,   0,   0,\n",
       "          0,   0],\n",
       "       [  0,   0,   0,   0,   0,   0,   0,   0,   0,   0,   0,   0,   3,\n",
       "         18,  18,  18, 126, 136, 175,  26, 166, 255, 247, 127,   0,   0,\n",
       "          0,   0],\n",
       "       [  0,   0,   0,   0,   0,   0,   0,   0,  30,  36,  94, 154, 170,\n",
       "        253, 253, 253, 253, 253, 225, 172, 253, 242, 195,  64,   0,   0,\n",
       "          0,   0],\n",
       "       [  0,   0,   0,   0,   0,   0,   0,  49, 238, 253, 253, 253, 253,\n",
       "        253, 253, 253, 253, 251,  93,  82,  82,  56,  39,   0,   0,   0,\n",
       "          0,   0],\n",
       "       [  0,   0,   0,   0,   0,   0,   0,  18, 219, 253, 253, 253, 253,\n",
       "        253, 198, 182, 247, 241,   0,   0,   0,   0,   0,   0,   0,   0,\n",
       "          0,   0],\n",
       "       [  0,   0,   0,   0,   0,   0,   0,   0,  80, 156, 107, 253, 253,\n",
       "        205,  11,   0,  43, 154,   0,   0,   0,   0,   0,   0,   0,   0,\n",
       "          0,   0],\n",
       "       [  0,   0,   0,   0,   0,   0,   0,   0,   0,  14,   1, 154, 253,\n",
       "         90,   0,   0,   0,   0,   0,   0,   0,   0,   0,   0,   0,   0,\n",
       "          0,   0],\n",
       "       [  0,   0,   0,   0,   0,   0,   0,   0,   0,   0,   0, 139, 253,\n",
       "        190,   2,   0,   0,   0,   0,   0,   0,   0,   0,   0,   0,   0,\n",
       "          0,   0],\n",
       "       [  0,   0,   0,   0,   0,   0,   0,   0,   0,   0,   0,  11, 190,\n",
       "        253,  70,   0,   0,   0,   0,   0,   0,   0,   0,   0,   0,   0,\n",
       "          0,   0],\n",
       "       [  0,   0,   0,   0,   0,   0,   0,   0,   0,   0,   0,   0,  35,\n",
       "        241, 225, 160, 108,   1,   0,   0,   0,   0,   0,   0,   0,   0,\n",
       "          0,   0],\n",
       "       [  0,   0,   0,   0,   0,   0,   0,   0,   0,   0,   0,   0,   0,\n",
       "         81, 240, 253, 253, 119,  25,   0,   0,   0,   0,   0,   0,   0,\n",
       "          0,   0],\n",
       "       [  0,   0,   0,   0,   0,   0,   0,   0,   0,   0,   0,   0,   0,\n",
       "          0,  45, 186, 253, 253, 150,  27,   0,   0,   0,   0,   0,   0,\n",
       "          0,   0],\n",
       "       [  0,   0,   0,   0,   0,   0,   0,   0,   0,   0,   0,   0,   0,\n",
       "          0,   0,  16,  93, 252, 253, 187,   0,   0,   0,   0,   0,   0,\n",
       "          0,   0],\n",
       "       [  0,   0,   0,   0,   0,   0,   0,   0,   0,   0,   0,   0,   0,\n",
       "          0,   0,   0,   0, 249, 253, 249,  64,   0,   0,   0,   0,   0,\n",
       "          0,   0],\n",
       "       [  0,   0,   0,   0,   0,   0,   0,   0,   0,   0,   0,   0,   0,\n",
       "          0,  46, 130, 183, 253, 253, 207,   2,   0,   0,   0,   0,   0,\n",
       "          0,   0],\n",
       "       [  0,   0,   0,   0,   0,   0,   0,   0,   0,   0,   0,   0,  39,\n",
       "        148, 229, 253, 253, 253, 250, 182,   0,   0,   0,   0,   0,   0,\n",
       "          0,   0],\n",
       "       [  0,   0,   0,   0,   0,   0,   0,   0,   0,   0,  24, 114, 221,\n",
       "        253, 253, 253, 253, 201,  78,   0,   0,   0,   0,   0,   0,   0,\n",
       "          0,   0],\n",
       "       [  0,   0,   0,   0,   0,   0,   0,   0,  23,  66, 213, 253, 253,\n",
       "        253, 253, 198,  81,   2,   0,   0,   0,   0,   0,   0,   0,   0,\n",
       "          0,   0],\n",
       "       [  0,   0,   0,   0,   0,   0,  18, 171, 219, 253, 253, 253, 253,\n",
       "        195,  80,   9,   0,   0,   0,   0,   0,   0,   0,   0,   0,   0,\n",
       "          0,   0],\n",
       "       [  0,   0,   0,   0,  55, 172, 226, 253, 253, 253, 253, 244, 133,\n",
       "         11,   0,   0,   0,   0,   0,   0,   0,   0,   0,   0,   0,   0,\n",
       "          0,   0],\n",
       "       [  0,   0,   0,   0, 136, 253, 253, 253, 212, 135, 132,  16,   0,\n",
       "          0,   0,   0,   0,   0,   0,   0,   0,   0,   0,   0,   0,   0,\n",
       "          0,   0],\n",
       "       [  0,   0,   0,   0,   0,   0,   0,   0,   0,   0,   0,   0,   0,\n",
       "          0,   0,   0,   0,   0,   0,   0,   0,   0,   0,   0,   0,   0,\n",
       "          0,   0],\n",
       "       [  0,   0,   0,   0,   0,   0,   0,   0,   0,   0,   0,   0,   0,\n",
       "          0,   0,   0,   0,   0,   0,   0,   0,   0,   0,   0,   0,   0,\n",
       "          0,   0],\n",
       "       [  0,   0,   0,   0,   0,   0,   0,   0,   0,   0,   0,   0,   0,\n",
       "          0,   0,   0,   0,   0,   0,   0,   0,   0,   0,   0,   0,   0,\n",
       "          0,   0]], dtype=uint8)"
      ]
     },
     "execution_count": 6,
     "metadata": {},
     "output_type": "execute_result"
    }
   ],
   "source": [
    "x_train[0]"
   ]
  },
  {
   "cell_type": "code",
   "execution_count": 7,
   "id": "83ad7df4-b114-4298-8ace-83f8129bc1fa",
   "metadata": {},
   "outputs": [
    {
     "data": {
      "text/plain": [
       "<matplotlib.image.AxesImage at 0x252f27a7df0>"
      ]
     },
     "execution_count": 7,
     "metadata": {},
     "output_type": "execute_result"
    },
    {
     "data": {
      "image/png": "[encoded data removed]",
      "text/plain": [
       "<Figure size 640x480 with 1 Axes>"
      ]
     },
     "metadata": {},
     "output_type": "display_data"
    }
   ],
   "source": [
    "plt.imshow(x_train[0])"
   ]
  },
  {
   "cell_type": "code",
   "execution_count": 8,
   "id": "db64aaee-de3b-4ecf-82cf-0f8ceb9a90e4",
   "metadata": {},
   "outputs": [
    {
     "data": {
      "text/plain": [
       "5"
      ]
     },
     "execution_count": 8,
     "metadata": {},
     "output_type": "execute_result"
    }
   ],
   "source": [
    "y_train[0]"
   ]
  },
  {
   "cell_type": "code",
   "execution_count": 9,
   "id": "09f8884f-75e8-41fe-9307-ed865ec13d41",
   "metadata": {},
   "outputs": [
    {
     "data": {
      "text/plain": [
       "(28, 28)"
      ]
     },
     "execution_count": 9,
     "metadata": {},
     "output_type": "execute_result"
    }
   ],
   "source": [
    "x_train[123].shape"
   ]
  },
  {
   "cell_type": "code",
   "execution_count": 10,
   "id": "d6a742ba-36ef-425c-9834-1dc177580a5c",
   "metadata": {},
   "outputs": [
    {
     "data": {
      "text/plain": [
       "<matplotlib.image.AxesImage at 0x252f5cfafb0>"
      ]
     },
     "execution_count": 10,
     "metadata": {},
     "output_type": "execute_result"
    },
    {
     "data": {
      "image/png": "[encoded data removed]",
      "text/plain": [
       "<Figure size 640x480 with 1 Axes>"
      ]
     },
     "metadata": {},
     "output_type": "display_data"
    }
   ],
   "source": [
    "plt.imshow(x_train[123], cmap='gray')"
   ]
  },
  {
   "cell_type": "code",
   "execution_count": 11,
   "id": "a60f9d8b-eb21-46b5-9e4d-fdcc22ba52e8",
   "metadata": {},
   "outputs": [
    {
     "data": {
      "text/plain": [
       "array([5, 0, 4, ..., 5, 6, 8], dtype=uint8)"
      ]
     },
     "execution_count": 11,
     "metadata": {},
     "output_type": "execute_result"
    }
   ],
   "source": [
    "y_train"
   ]
  },
  {
   "cell_type": "code",
   "execution_count": 12,
   "id": "07346ed3-a5de-47ca-93f8-7844194443f5",
   "metadata": {},
   "outputs": [],
   "source": [
    "class_labels = np.unique(y_train)"
   ]
  },
  {
   "cell_type": "code",
   "execution_count": 13,
   "id": "e21714c6-c7a4-4704-b56c-abe2416f723b",
   "metadata": {},
   "outputs": [
    {
     "data": {
      "text/plain": [
       "array([0, 1, 2, 3, 4, 5, 6, 7, 8, 9], dtype=uint8)"
      ]
     },
     "execution_count": 13,
     "metadata": {},
     "output_type": "execute_result"
    }
   ],
   "source": [
    "class_labels"
   ]
  },
  {
   "cell_type": "code",
   "execution_count": 14,
   "id": "77a92a8d-9ce2-4bc3-8946-b36b7cb32005",
   "metadata": {},
   "outputs": [],
   "source": [
    "# scale\n",
    "# lowest is 0 and highest is 1\n",
    "x_train = x_train/255\n",
    "y_train = y_train/255"
   ]
  },
  {
   "cell_type": "markdown",
   "id": "5adc9def",
   "metadata": {},
   "source": [
    "# How Images are formed\n",
    "\n",
    "### 1.  Images are formed when white light reflects off an object onto a film\n",
    "\n",
    "![imagespec](imagespec.jpg)\n",
    "\n",
    "### 2. The visibility range; in retrospect, is the white light range made of the 7 rainbow colours [Red, Orange, Yellow, Green, Blue, Indigo and Violet]\n",
    "\n",
    "### 3. In a digital representation, images are basically a grid made up of a combination of colours \n",
    "\n",
    "\n",
    "![gridimage](grid.jpg)\n",
    "\n",
    "### 4.  Each grid is a pixel made up of colours [ Note: a combination of the primary colours can generate any other colour]\n",
    "\n",
    "![gridimage2](pixel.jpg)\n",
    "\n",
    "### 5.  In Computer Vision, the RGB (Red, Green, Blue) colour ratio is used\n",
    "\n",
    "### 6.  Each pixel is a combination of the intensity of the RGB ratio ranging from 0 - 255\n",
    "\n",
    "### 7.  Colours in terms of RGB ratio \n",
    "- RED =    (255, 0, 0)\n",
    "- GREEN =  (0, 255, 0)\n",
    "- BLUE =   (0, 0, 255)\n",
    "- YELLOW = (255, 255, 0)\n",
    "- BLACK = (0, 0, 0)\n",
    "- WHITE = (255, 255, 255)"
   ]
  },
  {
   "cell_type": "code",
   "execution_count": 15,
   "id": "d881eae7",
   "metadata": {},
   "outputs": [],
   "source": [
    "# Build Deep Neural Network Model\n",
    "from tensorflow.keras.models import Sequential\n",
    "from tensorflow.keras.layers import Dense, Flatten"
   ]
  },
  {
   "cell_type": "markdown",
   "id": "408355e6-1f8b-402e-aa88-a758a8fb29df",
   "metadata": {},
   "source": [
    "Convolutional layers produce 3D feature maps (height × width × channels), but fully connected (Dense) layers require 1D inputs. Flatten reshapes the tensor without changing its data."
   ]
  },
  {
   "cell_type": "code",
   "execution_count": 16,
   "id": "e7239d18",
   "metadata": {},
   "outputs": [],
   "source": [
    "# Check Model Summary\n",
    "model = Sequential()"
   ]
  },
  {
   "cell_type": "code",
   "execution_count": null,
   "id": "2778141b-eb8a-44ed-8334-03b447593a07",
   "metadata": {},
   "outputs": [],
   "source": [
    "model.add(Flatten(input_shape(28, 28)))\n",
    "model.add(Dense(128, activation='relu')) #128 neurons\n",
    "model.add(Dense(64, activation='relu')) #128 neurons\n",
    "model.add(Dense(64, activation='relu')) #128 neurons\n",
    "model.add(Dense(64, activation='relu')) #128 neurons\n",
    "model.add(Dense(23, activation='relu')) #128 neurons\n",
    "model.add(Dense(10, activation='softmax')) #128 neurons"
   ]
  },
  {
   "cell_type": "code",
   "execution_count": null,
   "id": "0f7b41d8-ea94-4a85-a711-499dd9c9e1fe",
   "metadata": {},
   "outputs": [],
   "source": []
  },
  {
   "cell_type": "code",
   "execution_count": null,
   "id": "3b5af894-0e8c-4810-b409-2cc179feb940",
   "metadata": {},
   "outputs": [],
   "source": []
  },
  {
   "cell_type": "code",
   "execution_count": null,
   "id": "3671489a",
   "metadata": {},
   "outputs": [],
   "source": [
    "# Check Initial Weights\n"
   ]
  },
  {
   "cell_type": "code",
   "execution_count": 354,
   "id": "07a9d49d",
   "metadata": {},
   "outputs": [],
   "source": [
    "# Compile Model \n"
   ]
  },
  {
   "cell_type": "code",
   "execution_count": 355,
   "id": "ee08acf5",
   "metadata": {},
   "outputs": [],
   "source": [
    "# Fit Model\n"
   ]
  },
  {
   "cell_type": "code",
   "execution_count": 304,
   "id": "53a2af2d",
   "metadata": {},
   "outputs": [],
   "source": [
    "# Check Final Weights\n"
   ]
  },
  {
   "cell_type": "code",
   "execution_count": 305,
   "id": "a8790f90",
   "metadata": {},
   "outputs": [],
   "source": [
    "# Plot Accuracy and Loss\n"
   ]
  },
  {
   "cell_type": "code",
   "execution_count": 353,
   "id": "f277b05c",
   "metadata": {},
   "outputs": [],
   "source": [
    "# Evaluate Model\n"
   ]
  },
  {
   "cell_type": "code",
   "execution_count": 315,
   "id": "066f93e7",
   "metadata": {},
   "outputs": [],
   "source": [
    "# Make Predictions with Test Part of Dataset\n"
   ]
  }
 ],
 "metadata": {
  "kernelspec": {
   "display_name": "Python 3 (ipykernel)",
   "language": "python",
   "name": "python3"
  },
  "language_info": {
   "codemirror_mode": {
    "name": "ipython",
    "version": 3
   },
   "file_extension": ".py",
   "mimetype": "text/x-python",
   "name": "python",
   "nbconvert_exporter": "python",
   "pygments_lexer": "ipython3",
   "version": "3.10.16"
  }
 },
 "nbformat": 4,
 "nbformat_minor": 5
}
