{
 "cells": [
  {
   "cell_type": "markdown",
   "id": "8599c951-8489-45d4-911c-4596ddfcec83",
   "metadata": {},
   "source": [
    "### The Engineering Model\n",
    "<hr>\n",
    "<p>The <b>engineering model</b> of a neuron refers to a simplified, practical abstraction of how a biological neuron functions. The engineering model is developed for use in artificial neural networks (ANNs). This involves breaking down the behavior of a neuron into computational components that can be easily implemented in machine learning models. The image shows the biological neuron as well as the engineering model representation.\n",
    "</p>"
   ]
  },
  {
   "cell_type": "markdown",
   "id": "d35ab66b-a8a0-4a19-8d6b-d30bc463bd69",
   "metadata": {},
   "source": [
    "![alt text](perceptron_image.png)\n"
   ]
  },
  {
   "cell_type": "markdown",
   "id": "d4f7089a-eec1-439c-9fe6-fd93b2f4b356",
   "metadata": {},
   "source": [
    "##### Objectives\n",
    "1. Learn how the parameters (weights, biases, and activation functions) enable neurons to process inputs and generate outputs.\n",
    "2. Explore how adjusting the parameters shapes decision boundaries.\n",
    "3. Use the neuron model to design and simulate logical operations."
   ]
  },
  {
   "cell_type": "markdown",
   "id": "53c38ce2-424d-4a42-aeae-6f705e34ae98",
   "metadata": {},
   "source": [
    "#### Mathematical Foundation\n",
    "<hr>\n",
    "\n",
    "###### Linear function\n",
    "_**f(w, b) = w<sup>T</sup>x + b**_\n",
    "\n",
    "<hr>\n",
    "\n",
    "###### Activation function\n",
    "![alt text](activation_function.png)\n",
    "\n",
    "![alt text](step_func.jpg)\n",
    "<p>Within the context of logic gates, the output of an operation is either <b>1</b> or <b>0</b> \n",
    "</p>\n",
    "\n",
    "#### Weights Update\n",
    "<hr>\n",
    "\n",
    "![alt text](update.png)"
   ]
  },
  {
   "cell_type": "markdown",
   "id": "47bcf39b-e293-4609-8934-c7fd29f739be",
   "metadata": {},
   "source": [
    "### Activity\n",
    "\n",
    "1. We are going to write the code to implement this logic\n",
    "2. We shall use numpy and basic arithmetic operations for this activity "
   ]
  },
  {
   "cell_type": "code",
   "execution_count": 3,
   "id": "228b7e31-4732-4fc9-8a96-42abab6ff201",
   "metadata": {
    "ExecuteTime": {
     "end_time": "2024-12-08T17:05:49.042088Z",
     "start_time": "2024-12-08T17:05:48.943717Z"
    }
   },
   "outputs": [],
   "source": [
    "import numpy as np"
   ]
  },
  {
   "cell_type": "code",
   "execution_count": 19,
   "id": "007a639f-d2d6-4d45-b87e-2ff34b4f4db6",
   "metadata": {
    "ExecuteTime": {
     "end_time": "2024-12-08T17:25:25.259163Z",
     "start_time": "2024-12-08T17:25:25.195958Z"
    }
   },
   "outputs": [],
   "source": [
    "class Perceptron:\n",
    "    def __init__(self, learning_rate=0.01, epochs=100):\n",
    "        self.learning_rate = learning_rate\n",
    "        self.epochs = epochs\n",
    "        self.activation_function = self.activation_function\n",
    "        self.weights = None\n",
    "        self.bias = None\n",
    "        \n",
    "    # for training\n",
    "    def fit(self, x, y):\n",
    "        n_sample, n_features = x.shape\n",
    "        self.weights = np.zeros(n_features)\n",
    "        self.bias = 0\n",
    "        \n",
    "        y_ = np.array([1 if i > 0 else 0 for i in y])\n",
    "        \n",
    "        for _ in range(self.epochs):\n",
    "            for index_x, x_i in enumerate(x):\n",
    "                linear_output = np.dot(self.weights, x_i) + self.bias\n",
    "                y_predicted = self.activation_function(linear_output)\n",
    "                \n",
    "                update = self.learning_rate * (y_[index_x]-y_predicted)\n",
    "                self.weights += (update*x_i)\n",
    "                self.bias = update\n",
    "               \n",
    "    # calling method for predicting new values\n",
    "    def predict(self, x):\n",
    "        linear_output = np.dot(self.weights, x) + self.bias\n",
    "        y_predicted = self.activation_function(linear_output)\n",
    "        return y_predicted\n",
    "    \n",
    "    def activation_function(self, x):\n",
    "        return np.where(x >= 0, 1, 0)"
   ]
  },
  {
   "cell_type": "code",
   "execution_count": 20,
   "id": "6354205d1e8009e6",
   "metadata": {
    "ExecuteTime": {
     "end_time": "2024-12-08T17:25:32.458352Z",
     "start_time": "2024-12-08T17:25:32.450766Z"
    }
   },
   "outputs": [],
   "source": [
    "model = Perceptron()"
   ]
  },
  {
   "cell_type": "code",
   "execution_count": 21,
   "id": "9811364277d91ea5",
   "metadata": {
    "ExecuteTime": {
     "end_time": "2024-12-08T17:25:33.258389Z",
     "start_time": "2024-12-08T17:25:33.240681Z"
    }
   },
   "outputs": [
    {
     "data": {
      "text/plain": [
       "'\\nOR GATE\\nx1 | x2 | y\\n0  | 0  | 0\\n0  | 0  | 1\\n1  | 0  | 1\\n1  | 1  | 1\\n'"
      ]
     },
     "execution_count": 21,
     "metadata": {},
     "output_type": "execute_result"
    }
   ],
   "source": [
    "\"\"\"\n",
    "OR GATE\n",
    "x1 | x2 | y\n",
    "0  | 0  | 0\n",
    "0  | 0  | 1\n",
    "1  | 0  | 1\n",
    "1  | 1  | 1\n",
    "\"\"\""
   ]
  },
  {
   "cell_type": "code",
   "execution_count": 22,
   "id": "733a08a10c1c62c8",
   "metadata": {
    "ExecuteTime": {
     "end_time": "2024-12-08T17:25:35.604795Z",
     "start_time": "2024-12-08T17:25:35.594105Z"
    }
   },
   "outputs": [
    {
     "data": {
      "text/plain": [
       "array([[0, 0],\n",
       "       [0, 1],\n",
       "       [1, 0]])"
      ]
     },
     "execution_count": 22,
     "metadata": {},
     "output_type": "execute_result"
    }
   ],
   "source": [
    "input_data = np.array([[0, 0], [0, 1], [1, 0]])\n",
    "input_data"
   ]
  },
  {
   "cell_type": "code",
   "execution_count": 23,
   "id": "c359fc61-357f-483c-beb3-8c4ef1bf9423",
   "metadata": {
    "ExecuteTime": {
     "end_time": "2024-12-08T17:25:36.292848Z",
     "start_time": "2024-12-08T17:25:36.283021Z"
    }
   },
   "outputs": [],
   "source": [
    "y_output = np.array([0, 1, 1])"
   ]
  },
  {
   "cell_type": "code",
   "execution_count": 24,
   "id": "fb3db1f6-7378-4002-b531-adafab1613cd",
   "metadata": {
    "ExecuteTime": {
     "end_time": "2024-12-08T17:25:37.701062Z",
     "start_time": "2024-12-08T17:25:37.689088Z"
    }
   },
   "outputs": [
    {
     "data": {
      "text/plain": [
       "array([0, 1, 1])"
      ]
     },
     "execution_count": 24,
     "metadata": {},
     "output_type": "execute_result"
    }
   ],
   "source": [
    "y_output"
   ]
  },
  {
   "cell_type": "code",
   "execution_count": 25,
   "id": "7613125b-1b75-4dc3-aebd-66192dd6e198",
   "metadata": {
    "ExecuteTime": {
     "end_time": "2024-12-08T17:25:38.879454Z",
     "start_time": "2024-12-08T17:25:38.837007Z"
    }
   },
   "outputs": [],
   "source": [
    "model.fit(input_data, y_output)"
   ]
  },
  {
   "cell_type": "code",
   "execution_count": 26,
   "id": "6da06cf2-966b-4ed2-ab51-b64490d70ddb",
   "metadata": {
    "ExecuteTime": {
     "end_time": "2024-12-08T17:25:41.926886Z",
     "start_time": "2024-12-08T17:25:41.920778Z"
    }
   },
   "outputs": [],
   "source": [
    "new_data = np.array([1, 1])"
   ]
  },
  {
   "cell_type": "code",
   "execution_count": 27,
   "id": "9a0898cc-087c-4f86-adad-9d3a96809925",
   "metadata": {
    "ExecuteTime": {
     "end_time": "2024-12-08T17:25:49.428630Z",
     "start_time": "2024-12-08T17:25:49.418418Z"
    }
   },
   "outputs": [
    {
     "data": {
      "text/plain": [
       "array(1)"
      ]
     },
     "execution_count": 27,
     "metadata": {},
     "output_type": "execute_result"
    }
   ],
   "source": [
    "model.predict(new_data)"
   ]
  }
 ],
 "metadata": {
  "kernelspec": {
   "display_name": "Python 3 (ipykernel)",
   "language": "python",
   "name": "python3"
  },
  "language_info": {
   "codemirror_mode": {
    "name": "ipython",
    "version": 3
   },
   "file_extension": ".py",
   "mimetype": "text/x-python",
   "name": "python",
   "nbconvert_exporter": "python",
   "pygments_lexer": "ipython3",
   "version": "3.12.7"
  }
 },
 "nbformat": 4,
 "nbformat_minor": 5
}
