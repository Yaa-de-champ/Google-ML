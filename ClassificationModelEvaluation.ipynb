{
 "cells": [
  {
   "cell_type": "code",
   "id": "initial_id",
   "metadata": {
    "ExecuteTime": {
     "end_time": "2025-01-31T12:52:53.219866Z",
     "start_time": "2025-01-31T12:52:50.676651Z"
    }
   },
   "source": [
    "from sklearn.metrics import classification_report, confusion_matrix, accuracy_score\n",
    "import numpy as np\n",
    "import pandas as pd"
   ],
   "outputs": [],
   "execution_count": 1
  },
  {
   "cell_type": "code",
   "id": "75d6053b576f86c4",
   "metadata": {
    "ExecuteTime": {
     "end_time": "2025-01-31T12:53:22.651902Z",
     "start_time": "2025-01-31T12:53:22.614901Z"
    }
   },
   "source": [
    "actual_data = np.ones(5)\n",
    "actual_data"
   ],
   "outputs": [
    {
     "data": {
      "text/plain": [
       "array([1., 1., 1., 1., 1.])"
      ]
     },
     "execution_count": 2,
     "metadata": {},
     "output_type": "execute_result"
    }
   ],
   "execution_count": 2
  },
  {
   "cell_type": "code",
   "id": "53643465160f2e68",
   "metadata": {
    "ExecuteTime": {
     "end_time": "2025-01-31T12:53:59.517242Z",
     "start_time": "2025-01-31T12:53:59.498241Z"
    }
   },
   "source": [
    "actual_data[-2:] = 0\n",
    "actual_data"
   ],
   "outputs": [
    {
     "data": {
      "text/plain": [
       "array([1., 1., 1., 0., 0.])"
      ]
     },
     "execution_count": 4,
     "metadata": {},
     "output_type": "execute_result"
    }
   ],
   "execution_count": 4
  },
  {
   "cell_type": "code",
   "id": "bdb19a25e39f4fb",
   "metadata": {
    "ExecuteTime": {
     "end_time": "2025-01-31T12:55:32.609219Z",
     "start_time": "2025-01-31T12:55:32.592221Z"
    }
   },
   "source": [
    "predicted_data = np.ones(5)\n",
    "predicted_data"
   ],
   "outputs": [
    {
     "data": {
      "text/plain": [
       "array([1., 1., 1., 1., 1.])"
      ]
     },
     "execution_count": 6,
     "metadata": {},
     "output_type": "execute_result"
    }
   ],
   "execution_count": 6
  },
  {
   "cell_type": "code",
   "id": "8f54a51406957c3c",
   "metadata": {
    "ExecuteTime": {
     "end_time": "2025-01-31T12:55:51.051869Z",
     "start_time": "2025-01-31T12:55:51.028862Z"
    }
   },
   "source": [
    "predicted_data[-1] = 0\n",
    "predicted_data"
   ],
   "outputs": [
    {
     "data": {
      "text/plain": [
       "array([1., 1., 1., 1., 0.])"
      ]
     },
     "execution_count": 7,
     "metadata": {},
     "output_type": "execute_result"
    }
   ],
   "execution_count": 7
  },
  {
   "metadata": {
    "ExecuteTime": {
     "end_time": "2025-01-31T12:58:19.066829Z",
     "start_time": "2025-01-31T12:58:19.040827Z"
    }
   },
   "cell_type": "code",
   "source": [
    "m= confusion_matrix(predicted_data, actual_data)\n",
    "m"
   ],
   "id": "efd4eaacd80065ad",
   "outputs": [
    {
     "data": {
      "text/plain": [
       "array([[1, 0],\n",
       "       [1, 3]], dtype=int64)"
      ]
     },
     "execution_count": 11,
     "metadata": {},
     "output_type": "execute_result"
    }
   ],
   "execution_count": 11
  },
  {
   "metadata": {
    "ExecuteTime": {
     "end_time": "2025-01-31T13:01:25.786096Z",
     "start_time": "2025-01-31T13:01:25.778100Z"
    }
   },
   "cell_type": "code",
   "source": [
    "import seaborn as sns\n",
    "import matplotlib.pyplot as plt"
   ],
   "id": "fbb5cb49f5328097",
   "outputs": [],
   "execution_count": 16
  },
  {
   "metadata": {
    "ExecuteTime": {
     "end_time": "2025-01-31T13:01:33.902479Z",
     "start_time": "2025-01-31T13:01:33.637958Z"
    }
   },
   "cell_type": "code",
   "source": [
    "sns.heatmap(m, annot=True)\n",
    "plt.show()"
   ],
   "id": "ebb4c783237b4058",
   "outputs": [
    {
     "data": {
      "text/plain": [
       "<Figure size 640x480 with 2 Axes>"
      ],
      "image/png": "[encoded data removed]"
     },
     "metadata": {},
     "output_type": "display_data"
    }
   ],
   "execution_count": 17
  },
  {
   "metadata": {
    "ExecuteTime": {
     "end_time": "2025-01-31T13:07:14.660801Z",
     "start_time": "2025-01-31T13:07:14.631799Z"
    }
   },
   "cell_type": "code",
   "source": [
    "report = classification_report(actual_data, predicted_data)\n",
    "print(report)"
   ],
   "id": "9173667039b6fbfb",
   "outputs": [
    {
     "name": "stdout",
     "output_type": "stream",
     "text": [
      "              precision    recall  f1-score   support\n",
      "\n",
      "         0.0       1.00      0.50      0.67         2\n",
      "         1.0       0.75      1.00      0.86         3\n",
      "\n",
      "    accuracy                           0.80         5\n",
      "   macro avg       0.88      0.75      0.76         5\n",
      "weighted avg       0.85      0.80      0.78         5\n",
      "\n"
     ]
    }
   ],
   "execution_count": 20
  },
  {
   "metadata": {},
   "cell_type": "code",
   "outputs": [],
   "execution_count": null,
   "source": "",
   "id": "c4b02ee0a1ddba2e"
  }
 ],
 "metadata": {
  "kernelspec": {
   "display_name": "Python 3 (ipykernel)",
   "language": "python",
   "name": "python3"
  },
  "language_info": {
   "codemirror_mode": {
    "name": "ipython",
    "version": 3
   },
   "file_extension": ".py",
   "mimetype": "text/x-python",
   "name": "python",
   "nbconvert_exporter": "python",
   "pygments_lexer": "ipython3",
   "version": "3.10.15"
  }
 },
 "nbformat": 4,
 "nbformat_minor": 5
}
