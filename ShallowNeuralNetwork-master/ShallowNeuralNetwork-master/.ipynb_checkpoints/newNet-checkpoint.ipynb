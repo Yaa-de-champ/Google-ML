{
 "cells": [
  {
   "cell_type": "markdown",
   "id": "2ca4af21",
   "metadata": {},
   "source": [
    "# Shallow Nueral Network\n",
    "\n",
    "![shallownet](net.png)\n"
   ]
  },
  {
   "cell_type": "markdown",
   "id": "5a1311d8",
   "metadata": {},
   "source": [
    "# Objectives\n",
    "\n",
    "- To develop a machine learning model using a shallow neural network architecture\n",
    "- Use the Iris dataset to train the model\n",
    "- Do a perfomance analysis on the model\n",
    "- Use the developed model to make predictions"
   ]
  },
  {
   "cell_type": "markdown",
   "id": "525a2cca",
   "metadata": {},
   "source": [
    "# Machine Learning Model Development Flowchat\n",
    "![image](flowchat.png)"
   ]
  },
  {
   "cell_type": "code",
   "execution_count": null,
   "id": "68a8f25d",
   "metadata": {},
   "outputs": [],
   "source": [
    "# Import Libraries --- [ numpy, pandas, matplotlib, keras, sklearn,]\n"
   ]
  },
  {
   "cell_type": "code",
   "execution_count": null,
   "id": "d59d654e",
   "metadata": {},
   "outputs": [],
   "source": [
    "# Load Dataset\n"
   ]
  },
  {
   "cell_type": "code",
   "execution_count": null,
   "id": "6f562e04",
   "metadata": {},
   "outputs": [],
   "source": [
    "# Define Input and Output Variables\n"
   ]
  },
  {
   "cell_type": "code",
   "execution_count": null,
   "id": "e8ad1636",
   "metadata": {},
   "outputs": [],
   "source": [
    "# Split Data into Training and Testing Part\n"
   ]
  },
  {
   "cell_type": "code",
   "execution_count": null,
   "id": "7e0971e1",
   "metadata": {},
   "outputs": [],
   "source": [
    "# Build Shallow Network Model\n"
   ]
  },
  {
   "cell_type": "code",
   "execution_count": null,
   "id": "47fc7818",
   "metadata": {},
   "outputs": [],
   "source": [
    "# Compile Model \n"
   ]
  },
  {
   "cell_type": "code",
   "execution_count": null,
   "id": "a347a5eb",
   "metadata": {},
   "outputs": [],
   "source": [
    "# Check Model Summary\n"
   ]
  },
  {
   "cell_type": "code",
   "execution_count": null,
   "id": "37bd7a31",
   "metadata": {},
   "outputs": [],
   "source": [
    "# Check Initial weights\n"
   ]
  },
  {
   "cell_type": "code",
   "execution_count": null,
   "id": "387366ae",
   "metadata": {},
   "outputs": [],
   "source": [
    "# Fit Model\n"
   ]
  },
  {
   "cell_type": "code",
   "execution_count": null,
   "id": "8513369d",
   "metadata": {},
   "outputs": [],
   "source": [
    "# Change Target Output to Categorical\n"
   ]
  },
  {
   "cell_type": "code",
   "execution_count": null,
   "id": "7ef02652",
   "metadata": {},
   "outputs": [],
   "source": [
    "# Evaluate Model\n"
   ]
  },
  {
   "cell_type": "code",
   "execution_count": null,
   "id": "af06ee06",
   "metadata": {},
   "outputs": [],
   "source": [
    "# Make Predictions with Test Part of Dataset\n"
   ]
  },
  {
   "cell_type": "code",
   "execution_count": null,
   "id": "313f0a5d",
   "metadata": {},
   "outputs": [],
   "source": [
    "# Make Prediction with albetrary values\n"
   ]
  },
  {
   "cell_type": "code",
   "execution_count": null,
   "id": "fe4abd90",
   "metadata": {},
   "outputs": [],
   "source": [
    "# Analyse Results\n"
   ]
  },
  {
   "cell_type": "code",
   "execution_count": null,
   "id": "84651f65",
   "metadata": {},
   "outputs": [],
   "source": []
  }
 ],
 "metadata": {
  "kernelspec": {
   "display_name": "Python 3",
   "language": "python",
   "name": "python3"
  },
  "language_info": {
   "codemirror_mode": {
    "name": "ipython",
    "version": 3
   },
   "file_extension": ".py",
   "mimetype": "text/x-python",
   "name": "python",
   "nbconvert_exporter": "python",
   "pygments_lexer": "ipython3",
   "version": "3.9.1"
  }
 },
 "nbformat": 4,
 "nbformat_minor": 5
}
