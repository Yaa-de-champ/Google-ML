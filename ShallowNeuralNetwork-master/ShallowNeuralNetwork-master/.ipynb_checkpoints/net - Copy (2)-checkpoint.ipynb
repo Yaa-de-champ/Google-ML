{
 "cells": [
  {
   "cell_type": "markdown",
   "id": "2ca4af21",
   "metadata": {},
   "source": [
    "# Shallow Nueral Network\n",
    "\n",
    "![shallownet](shallownet.png)\n",
    "\n"
   ]
  },
  {
   "cell_type": "markdown",
   "id": "5a1311d8",
   "metadata": {},
   "source": [
    "# Objectives\n",
    "\n",
    "- To develop a machine learning model using a shallow neural network architecture\n",
    "- Use the Iris dataset to train the model\n",
    "- Do a perfomance analysis on the model\n",
    "- Use the developed model to make predictions"
   ]
  },
  {
   "cell_type": "markdown",
   "id": "525a2cca",
   "metadata": {},
   "source": [
    "# Machine Learning Model Development Flowchat\n",
    "![image](flowchat.png)"
   ]
  },
  {
   "cell_type": "code",
   "execution_count": 1,
   "id": "68a8f25d",
   "metadata": {},
   "outputs": [],
   "source": [
    "# Import Libraries --- [ numpy, pandas, matplotlib, keras, sklearn,]\n",
    "import numpy as np\n",
    "import pandas as pd\n",
    "import matplotlib.pyplot as plt\n",
    "import keras\n",
    "import sklearn"
   ]
  },
  {
   "cell_type": "code",
   "execution_count": 3,
   "id": "d59d654e",
   "metadata": {},
   "outputs": [
    {
     "data": {
      "text/html": [
       "<div>\n",
       "<style scoped>\n",
       "    .dataframe tbody tr th:only-of-type {\n",
       "        vertical-align: middle;\n",
       "    }\n",
       "\n",
       "    .dataframe tbody tr th {\n",
       "        vertical-align: top;\n",
       "    }\n",
       "\n",
       "    .dataframe thead th {\n",
       "        text-align: right;\n",
       "    }\n",
       "</style>\n",
       "<table border=\"1\" class=\"dataframe\">\n",
       "  <thead>\n",
       "    <tr style=\"text-align: right;\">\n",
       "      <th></th>\n",
       "      <th>Id</th>\n",
       "      <th>SepalLengthCm</th>\n",
       "      <th>SepalWidthCm</th>\n",
       "      <th>PetalLengthCm</th>\n",
       "      <th>PetalWidthCm</th>\n",
       "      <th>Species</th>\n",
       "    </tr>\n",
       "  </thead>\n",
       "  <tbody>\n",
       "    <tr>\n",
       "      <th>0</th>\n",
       "      <td>1</td>\n",
       "      <td>5.1</td>\n",
       "      <td>3.5</td>\n",
       "      <td>1.4</td>\n",
       "      <td>0.2</td>\n",
       "      <td>Iris-setosa</td>\n",
       "    </tr>\n",
       "    <tr>\n",
       "      <th>1</th>\n",
       "      <td>2</td>\n",
       "      <td>4.9</td>\n",
       "      <td>3.0</td>\n",
       "      <td>1.4</td>\n",
       "      <td>0.2</td>\n",
       "      <td>Iris-setosa</td>\n",
       "    </tr>\n",
       "    <tr>\n",
       "      <th>2</th>\n",
       "      <td>3</td>\n",
       "      <td>4.7</td>\n",
       "      <td>3.2</td>\n",
       "      <td>1.3</td>\n",
       "      <td>0.2</td>\n",
       "      <td>Iris-setosa</td>\n",
       "    </tr>\n",
       "    <tr>\n",
       "      <th>3</th>\n",
       "      <td>4</td>\n",
       "      <td>4.6</td>\n",
       "      <td>3.1</td>\n",
       "      <td>1.5</td>\n",
       "      <td>0.2</td>\n",
       "      <td>Iris-setosa</td>\n",
       "    </tr>\n",
       "    <tr>\n",
       "      <th>4</th>\n",
       "      <td>5</td>\n",
       "      <td>5.0</td>\n",
       "      <td>3.6</td>\n",
       "      <td>1.4</td>\n",
       "      <td>0.2</td>\n",
       "      <td>Iris-setosa</td>\n",
       "    </tr>\n",
       "  </tbody>\n",
       "</table>\n",
       "</div>"
      ],
      "text/plain": [
       "   Id  SepalLengthCm  SepalWidthCm  PetalLengthCm  PetalWidthCm      Species\n",
       "0   1            5.1           3.5            1.4           0.2  Iris-setosa\n",
       "1   2            4.9           3.0            1.4           0.2  Iris-setosa\n",
       "2   3            4.7           3.2            1.3           0.2  Iris-setosa\n",
       "3   4            4.6           3.1            1.5           0.2  Iris-setosa\n",
       "4   5            5.0           3.6            1.4           0.2  Iris-setosa"
      ]
     },
     "execution_count": 3,
     "metadata": {},
     "output_type": "execute_result"
    }
   ],
   "source": [
    "# Load Dataset\n",
    "dataset = pd.read_csv('Iris.csv')\n",
    "dataset.head()"
   ]
  },
  {
   "cell_type": "code",
   "execution_count": null,
   "id": "54367d50",
   "metadata": {},
   "outputs": [],
   "source": [
    "dataset.drop(columns='Id')"
   ]
  },
  {
   "cell_type": "code",
   "execution_count": null,
   "id": "6f562e04",
   "metadata": {},
   "outputs": [],
   "source": [
    "# Define Input and Output Variables\n"
   ]
  },
  {
   "cell_type": "code",
   "execution_count": null,
   "id": "e8ad1636",
   "metadata": {},
   "outputs": [],
   "source": [
    "# Split Data into Training and Testing Part\n"
   ]
  },
  {
   "cell_type": "code",
   "execution_count": null,
   "id": "7e0971e1",
   "metadata": {},
   "outputs": [],
   "source": [
    "# Build Shallow Network Model\n"
   ]
  },
  {
   "cell_type": "code",
   "execution_count": null,
   "id": "47fc7818",
   "metadata": {},
   "outputs": [],
   "source": [
    "# Compile Model \n"
   ]
  },
  {
   "cell_type": "code",
   "execution_count": null,
   "id": "a347a5eb",
   "metadata": {},
   "outputs": [],
   "source": [
    "# Check Model Summary\n"
   ]
  },
  {
   "cell_type": "code",
   "execution_count": null,
   "id": "37bd7a31",
   "metadata": {},
   "outputs": [],
   "source": [
    "# Check Initial weights\n"
   ]
  },
  {
   "cell_type": "code",
   "execution_count": null,
   "id": "387366ae",
   "metadata": {},
   "outputs": [],
   "source": [
    "# Fit Model\n"
   ]
  },
  {
   "cell_type": "code",
   "execution_count": null,
   "id": "8513369d",
   "metadata": {},
   "outputs": [],
   "source": [
    "# Change Target Output to Categorical\n"
   ]
  },
  {
   "cell_type": "code",
   "execution_count": null,
   "id": "7ef02652",
   "metadata": {},
   "outputs": [],
   "source": [
    "# Evaluate Model\n"
   ]
  },
  {
   "cell_type": "code",
   "execution_count": null,
   "id": "af06ee06",
   "metadata": {},
   "outputs": [],
   "source": [
    "# Make Predictions with Test Part of Dataset\n"
   ]
  },
  {
   "cell_type": "code",
   "execution_count": null,
   "id": "313f0a5d",
   "metadata": {},
   "outputs": [],
   "source": [
    "# Make Prediction with albetrary values\n"
   ]
  },
  {
   "cell_type": "code",
   "execution_count": null,
   "id": "fe4abd90",
   "metadata": {},
   "outputs": [],
   "source": [
    "# Analyse Results\n"
   ]
  },
  {
   "cell_type": "code",
   "execution_count": null,
   "id": "84651f65",
   "metadata": {},
   "outputs": [],
   "source": []
  }
 ],
 "metadata": {
  "kernelspec": {
   "display_name": "Python 3",
   "language": "python",
   "name": "python3"
  },
  "language_info": {
   "codemirror_mode": {
    "name": "ipython",
    "version": 3
   },
   "file_extension": ".py",
   "mimetype": "text/x-python",
   "name": "python",
   "nbconvert_exporter": "python",
   "pygments_lexer": "ipython3",
   "version": "3.9.1"
  }
 },
 "nbformat": 4,
 "nbformat_minor": 5
}
